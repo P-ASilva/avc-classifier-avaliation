{
 "cells": [
  {
   "cell_type": "code",
   "execution_count": 1,
   "metadata": {},
   "outputs": [],
   "source": [
    "from sklearn.tree import DecisionTreeClassifier\n",
    "import pandas as pd\n",
    "\n",
    "# ---------------------------------------- #\n",
    "\n",
    "df = pd.read_csv('healthcare-dataset-stroke-data.csv')\n",
    "df = df.fillna(0)\n",
    "\n",
    "# ---------------------------------------- #\n",
    "\n",
    "df = df.replace(to_replace=\"Male\",value=\"0\")\n",
    "df = df.replace(to_replace=\"Female\",value=\"1\")\n",
    "df = df.replace(to_replace=\"Other\",value=\"2\")\n",
    "\n",
    "df = df.replace(to_replace=\"No\",value=\"0\")\n",
    "df = df.replace(to_replace=\"Yes\",value=\"1\")\n",
    "\n",
    "df = df.replace(to_replace=\"Never_worked\",value=\"0\")\n",
    "df = df.replace(to_replace=\"Private\",value=\"1\")\n",
    "df = df.replace(to_replace=\"Self-employed\",value=\"2\")\n",
    "df = df.replace(to_replace=\"Govt_job\",value=\"3\")\n",
    "df = df.replace(to_replace=\"children\",value=\"4\")\n",
    "\n",
    "df = df.replace(to_replace=\"Rural\",value=\"0\")\n",
    "df = df.replace(to_replace=\"Urban\",value=\"1\")\n",
    "\n",
    "df = df.replace(to_replace=\"never smoked\",value=\"0\")\n",
    "df = df.replace(to_replace=\"formerly smoked\",value=\"1\")\n",
    "df = df.replace(to_replace=\"smokes\",value=\"2\")\n",
    "df = df.replace(to_replace=\"Unknown\",value=\"3\")\n",
    "\n",
    "# ---------------------------------------- #"
   ]
  },
  {
   "cell_type": "code",
   "execution_count": 2,
   "metadata": {},
   "outputs": [
    {
     "data": {
      "text/plain": [
       "DecisionTreeClassifier(criterion='entropy')"
      ]
     },
     "execution_count": 2,
     "metadata": {},
     "output_type": "execute_result"
    }
   ],
   "source": [
    "# ---------------------------------------- #\n",
    "\n",
    "df_rotulo = df['id']\n",
    "df_features = df[['gender', 'age', 'hypertension', 'heart_disease', 'ever_married', 'work_type', 'Residence_type', 'avg_glucose_level', 'bmi', 'smoking_status', 'stroke']]\n",
    "\n",
    "tree = DecisionTreeClassifier(criterion='entropy')\n",
    "tree.fit(df_features, df_rotulo)\n",
    "\n",
    "# ---------------------------------------- #"
   ]
  },
  {
   "cell_type": "code",
   "execution_count": null,
   "metadata": {},
   "outputs": [],
   "source": [
    "from sklearn.tree import plot_tree\n",
    "import matplotlib.pyplot as plt\n",
    "\n",
    "plt.figure( figsize=(20,20) )\n",
    "a = plot_tree(tree, feature_names=df_features.columns, fontsize=2, \n",
    "              node_ids=False, impurity=False, filled=True)"
   ]
  }
 ],
 "metadata": {
  "kernelspec": {
   "display_name": "base",
   "language": "python",
   "name": "python3"
  },
  "language_info": {
   "codemirror_mode": {
    "name": "ipython",
    "version": 3
   },
   "file_extension": ".py",
   "mimetype": "text/x-python",
   "name": "python",
   "nbconvert_exporter": "python",
   "pygments_lexer": "ipython3",
   "version": "3.10.4"
  },
  "orig_nbformat": 4,
  "vscode": {
   "interpreter": {
    "hash": "42e34ec1a81382d7a35a13fd98192c35dabe0890684b7b0a474deec672e3df02"
   }
  }
 },
 "nbformat": 4,
 "nbformat_minor": 2
}
